{
 "cells": [
  {
   "cell_type": "code",
   "execution_count": null,
   "id": "b24ae378",
   "metadata": {},
   "outputs": [],
   "source": [
    "import re\n",
    "\n",
    "def extract_youtube_id(url):\n",
    "    \"\"\"\n",
    "    Extract the video ID from a YouTube URL.\n",
    "    Supports multiple YouTube URL formats.\n",
    "    \"\"\"\n",
    "    regex = (\n",
    "        r\"(?:v=|\\/)([0-9A-Za-z_-]{11}).*\"\n",
    "    )\n",
    "    match = re.search(regex, url)\n",
    "    if match:\n",
    "        yt_id = match.group(1)\n",
    "        return yt_id\n",
    "    else:\n",
    "        return None"
   ]
  },
  {
   "cell_type": "code",
   "execution_count": 7,
   "id": "17b4ff01",
   "metadata": {},
   "outputs": [
    {
     "data": {
      "text/plain": [
       "'f6rerulM6bc'"
      ]
     },
     "execution_count": 7,
     "metadata": {},
     "output_type": "execute_result"
    }
   ],
   "source": [
    "extract_youtube_id(\"https://www.youtube.com/watch?v=f6rerulM6bc&ab_channel=Astrum\")"
   ]
  },
  {
   "cell_type": "code",
   "execution_count": null,
   "id": "21a3ca93",
   "metadata": {},
   "outputs": [
    {
     "ename": "NameError",
     "evalue": "name 'yt_id' is not defined",
     "output_type": "error",
     "traceback": [
      "\u001b[1;31m---------------------------------------------------------------------------\u001b[0m",
      "\u001b[1;31mNameError\u001b[0m                                 Traceback (most recent call last)",
      "Cell \u001b[1;32mIn[8], line 1\u001b[0m\n\u001b[1;32m----> 1\u001b[0m yt_id\n",
      "\u001b[1;31mNameError\u001b[0m: name 'yt_id' is not defined"
     ]
    }
   ],
   "source": []
  },
  {
   "cell_type": "code",
   "execution_count": null,
   "id": "63a0677f",
   "metadata": {},
   "outputs": [],
   "source": []
  }
 ],
 "metadata": {
  "kernelspec": {
   "display_name": "base",
   "language": "python",
   "name": "python3"
  },
  "language_info": {
   "codemirror_mode": {
    "name": "ipython",
    "version": 3
   },
   "file_extension": ".py",
   "mimetype": "text/x-python",
   "name": "python",
   "nbconvert_exporter": "python",
   "pygments_lexer": "ipython3",
   "version": "3.12.7"
  }
 },
 "nbformat": 4,
 "nbformat_minor": 5
}
